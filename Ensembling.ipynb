{
 "cells": [
  {
   "cell_type": "code",
   "execution_count": 1,
   "metadata": {
    "collapsed": false,
    "deletable": true,
    "editable": true,
    "scrolled": true
   },
   "outputs": [
    {
     "name": "stderr",
     "output_type": "stream",
     "text": [
      "Using Theano backend.\n"
     ]
    }
   ],
   "source": [
    "import teleloggingbot\n",
    "import pprint\n",
    "import random\n",
    "from tqdm import tqdm\n",
    "\n",
    "import numpy as np\n",
    "import pandas as pd\n",
    "from scipy.stats import gmean\n",
    "\n",
    "from sklearn.metrics import log_loss, make_scorer\n",
    "from sklearn.model_selection import StratifiedKFold, KFold, train_test_split\n",
    "\n",
    "from sklearn.linear_model import LogisticRegression\n",
    "from sklearn.ensemble import RandomForestClassifier, ExtraTreesClassifier, GradientBoostingClassifier\n",
    "from sklearn.neural_network import MLPClassifier\n",
    "from sklearn.neighbors import KNeighborsClassifier\n",
    "\n",
    "from sklearn.preprocessing import StandardScaler, MinMaxScaler\n",
    "\n",
    "import xgboost as xgb\n",
    "import lightgbm as lgb\n",
    "\n",
    "import keras\n",
    "from keras import backend as K\n",
    "from keras.models import Sequential\n",
    "from keras.layers import Dense, Activation, Dropout\n",
    "from keras.optimizers import Adam, SGD, RMSprop, Nadam\n",
    "from keras.layers.normalization import BatchNormalization\n",
    "from keras.layers.advanced_activations import LeakyReLU, PReLU\n",
    "from keras.callbacks import ReduceLROnPlateau, EarlyStopping"
   ]
  },
  {
   "cell_type": "code",
   "execution_count": 2,
   "metadata": {
    "collapsed": false,
    "deletable": true,
    "editable": true
   },
   "outputs": [],
   "source": [
    "dfx_train = pd.read_csv('./x_train_my.csv', index_col=None)\n",
    "dfx_test = pd.read_csv('./x_test_my.csv', index_col=None)\n",
    "\n",
    "dfy_train = pd.read_csv('./y_train.csv', index_col=None, header=None)\n",
    "dfy_train.columns = ['class']"
   ]
  },
  {
   "cell_type": "code",
   "execution_count": 3,
   "metadata": {
    "collapsed": false,
    "deletable": true,
    "editable": true
   },
   "outputs": [],
   "source": [
    "xtrain = dfx_train.values\n",
    "ytrain = dfy_train.values.ravel()\n",
    "xtest =  dfx_test.values"
   ]
  },
  {
   "cell_type": "code",
   "execution_count": 4,
   "metadata": {
    "collapsed": true,
    "deletable": true,
    "editable": true
   },
   "outputs": [],
   "source": [
    "def getKerasMLP():\n",
    "    keras_mlp = Sequential()\n",
    "    keras_mlp.add(Dense(128, input_dim=xtrain.shape[1], init='he_normal'))\n",
    "    keras_mlp.add(Activation('relu'))\n",
    "    keras_mlp.add(Dropout(0.2))\n",
    "\n",
    "    keras_mlp.add(Dense(1, activation='sigmoid', init='he_normal'))\n",
    "    keras_mlp.compile(loss='binary_crossentropy', optimizer=Adam(decay=1e-6))\n",
    "    return keras_mlp"
   ]
  },
  {
   "cell_type": "code",
   "execution_count": 5,
   "metadata": {
    "collapsed": false,
    "deletable": true,
    "editable": true
   },
   "outputs": [],
   "source": [
    "sklearn_mlp_param = {'hidden_layer_sizes':(32, 32), 'max_iter': 200, 'batch_size':64}\n",
    "sklearn_mlp = MLPClassifier(**sklearn_mlp_param)"
   ]
  },
  {
   "cell_type": "code",
   "execution_count": 6,
   "metadata": {
    "collapsed": true,
    "deletable": true,
    "editable": true
   },
   "outputs": [],
   "source": [
    "logreg_param = {'C': 0.225}\n",
    "logreg = LogisticRegression(**logreg_param)"
   ]
  },
  {
   "cell_type": "code",
   "execution_count": 7,
   "metadata": {
    "collapsed": false,
    "deletable": true,
    "editable": true
   },
   "outputs": [],
   "source": [
    "lgb_param = {\n",
    "    'subsample': 0.55,\n",
    "    'subsample_freq': 1,\n",
    "    'boosting_type': 'gbdt',\n",
    "    'colsample_bytree': 0.75,\n",
    "    'reg_lambda': 6.05,\n",
    "    'learning_rate': 0.012,\n",
    "    'max_bin': 15,\n",
    "    'max_depth': 6,\n",
    "    'n_estimators': 500,\n",
    "    'num_leaves': 15,\n",
    "    'nthread': 8,\n",
    "    'objective': 'binary'\n",
    "}\n",
    "lgb_clf = lgb.LGBMClassifier(**lgb_param)"
   ]
  },
  {
   "cell_type": "code",
   "execution_count": 8,
   "metadata": {
    "collapsed": true,
    "deletable": true,
    "editable": true
   },
   "outputs": [],
   "source": [
    "xgb_param = {\n",
    "    'colsample_bylevel': 0.85,\n",
    "    'colsample_bytree': 0.55,\n",
    "    'gamma': 3.3,\n",
    "    'learning_rate': 0.008,\n",
    "    'max_delta_step': 8.9,\n",
    "    'max_depth': 4,\n",
    "    'min_child_weight': 7.0,\n",
    "    'n_estimators': 920,\n",
    "    'nthread': 8,\n",
    "    'objective': 'binary:logistic',\n",
    "    'reg_lambda': 9.95,\n",
    "    'scale_pos_weight': 1.0,\n",
    "    'silent': 1,\n",
    "    'subsample': 0.55\n",
    "}\n",
    "xgb_clf = xgb.XGBClassifier(**xgb_param)"
   ]
  },
  {
   "cell_type": "code",
   "execution_count": 9,
   "metadata": {
    "collapsed": false,
    "deletable": true,
    "editable": true,
    "scrolled": true
   },
   "outputs": [
    {
     "name": "stdout",
     "output_type": "stream",
     "text": [
      "Fold #1/6\n",
      "Sequential      \t logloss: 0.39167531\n",
      "LGBMClassifier  \t logloss: 0.38958564\n",
      "XGBClassifier   \t logloss: 0.38996541\n",
      "MLPClassifier   \t logloss: 0.39523748\n",
      "LogisticRegression \t logloss: 0.39401907\n",
      "========================================\n",
      "Fold #2/6\n",
      "Sequential      \t logloss: 0.38519678\n",
      "LGBMClassifier  \t logloss: 0.38462679\n",
      "XGBClassifier   \t logloss: 0.38459124\n",
      "MLPClassifier   \t logloss: 0.38460793\n",
      "LogisticRegression \t logloss: 0.3891311\n",
      "========================================\n",
      "Fold #3/6\n",
      "Sequential      \t logloss: 0.38563557\n",
      "LGBMClassifier  \t logloss: 0.38375618\n",
      "XGBClassifier   \t logloss: 0.38384324\n",
      "MLPClassifier   \t logloss: 0.39050369\n",
      "LogisticRegression \t logloss: 0.3895984\n",
      "========================================\n",
      "Fold #4/6\n",
      "Sequential      \t logloss: 0.35830899\n",
      "LGBMClassifier  \t logloss: 0.3618075\n",
      "XGBClassifier   \t logloss: 0.36257992\n",
      "MLPClassifier   \t logloss: 0.36528482\n",
      "LogisticRegression \t logloss: 0.37002163\n",
      "========================================\n",
      "Fold #5/6\n",
      "Sequential      \t logloss: 0.36618264\n",
      "LGBMClassifier  \t logloss: 0.36863851\n",
      "XGBClassifier   \t logloss: 0.36772608\n",
      "MLPClassifier   \t logloss: 0.37382327\n",
      "LogisticRegression \t logloss: 0.37308677\n",
      "========================================\n",
      "Fold #6/6\n",
      "Sequential      \t logloss: 0.38623504\n",
      "LGBMClassifier  \t logloss: 0.3879645\n",
      "XGBClassifier   \t logloss: 0.3890662\n",
      "MLPClassifier   \t logloss: 0.39520333\n",
      "LogisticRegression \t logloss: 0.3942586\n",
      "========================================\n",
      "CPU times: user 3min 55s, sys: 8.34 s, total: 4min 3s\n",
      "Wall time: 2min 14s\n"
     ]
    }
   ],
   "source": [
    "%%time\n",
    "clfs = [getKerasMLP(), lgb_clf, xgb_clf, sklearn_mlp, logreg]\n",
    "n_folds = 6\n",
    "kf = StratifiedKFold(n_splits=n_folds, shuffle=True)\n",
    "preds_train = np.zeros((len(dfy_train),len(clfs)), dtype=np.float32)\n",
    "\n",
    "for fold_i, (train_index, test_index) in enumerate(kf.split(xtrain, ytrain)):\n",
    "    X_train, X_test = xtrain[train_index], xtrain[test_index]\n",
    "    y_train, y_test = ytrain[train_index], ytrain[test_index]\n",
    "    print('Fold #{}/{}'.format(fold_i+1, n_folds))\n",
    "    for clf_i, clf in enumerate(clfs):\n",
    "        if clf.__class__.__name__ != 'Sequential':\n",
    "            clf.fit(X_train, y_train)\n",
    "            prediction = clf.predict_proba(X_test)\n",
    "        else:\n",
    "            clf.fit(X_train, y_train, nb_epoch=35+random.randint(-5,5),\n",
    "                    batch_size=512, validation_split=0, verbose=0)\n",
    "            prediction = clf.predict_proba(X_test, verbose=0)\n",
    "        if (prediction.shape[1] > 1):\n",
    "            prediction = prediction[:,1]\n",
    "        preds_train[test_index, clf_i] = prediction.ravel()\n",
    "        print('{:15} \\t logloss: {:.8}'.format(clf.__class__.__name__,\n",
    "                                               log_loss(y_test, prediction)))\n",
    "    print('='*45)"
   ]
  },
  {
   "cell_type": "code",
   "execution_count": 10,
   "metadata": {
    "collapsed": false,
    "deletable": true,
    "editable": true
   },
   "outputs": [],
   "source": [
    "preds_train_df = pd.DataFrame(preds_train,\n",
    "                              columns=[clf.__class__.__name__ for clf in clfs], index=None)"
   ]
  },
  {
   "cell_type": "code",
   "execution_count": 11,
   "metadata": {
    "collapsed": false,
    "deletable": true,
    "editable": true
   },
   "outputs": [],
   "source": [
    "preds_train_df['Gmean'] = gmean(preds_train, axis=1)"
   ]
  },
  {
   "cell_type": "code",
   "execution_count": 12,
   "metadata": {
    "collapsed": false,
    "deletable": true,
    "editable": true,
    "scrolled": true
   },
   "outputs": [
    {
     "data": {
      "text/html": [
       "<div>\n",
       "<table border=\"1\" class=\"dataframe\">\n",
       "  <thead>\n",
       "    <tr style=\"text-align: right;\">\n",
       "      <th></th>\n",
       "      <th>Sequential</th>\n",
       "      <th>LGBMClassifier</th>\n",
       "      <th>XGBClassifier</th>\n",
       "      <th>MLPClassifier</th>\n",
       "      <th>LogisticRegression</th>\n",
       "      <th>Gmean</th>\n",
       "    </tr>\n",
       "  </thead>\n",
       "  <tbody>\n",
       "    <tr>\n",
       "      <th>0</th>\n",
       "      <td>0.335032</td>\n",
       "      <td>0.361801</td>\n",
       "      <td>0.348334</td>\n",
       "      <td>0.342524</td>\n",
       "      <td>0.310631</td>\n",
       "      <td>0.339233</td>\n",
       "    </tr>\n",
       "    <tr>\n",
       "      <th>1</th>\n",
       "      <td>0.542141</td>\n",
       "      <td>0.665235</td>\n",
       "      <td>0.657173</td>\n",
       "      <td>0.561377</td>\n",
       "      <td>0.545661</td>\n",
       "      <td>0.591819</td>\n",
       "    </tr>\n",
       "    <tr>\n",
       "      <th>2</th>\n",
       "      <td>0.048808</td>\n",
       "      <td>0.054240</td>\n",
       "      <td>0.052380</td>\n",
       "      <td>0.075336</td>\n",
       "      <td>0.052062</td>\n",
       "      <td>0.055860</td>\n",
       "    </tr>\n",
       "    <tr>\n",
       "      <th>3</th>\n",
       "      <td>0.165080</td>\n",
       "      <td>0.222551</td>\n",
       "      <td>0.212316</td>\n",
       "      <td>0.162091</td>\n",
       "      <td>0.176611</td>\n",
       "      <td>0.186113</td>\n",
       "    </tr>\n",
       "    <tr>\n",
       "      <th>4</th>\n",
       "      <td>0.046927</td>\n",
       "      <td>0.045581</td>\n",
       "      <td>0.049623</td>\n",
       "      <td>0.060695</td>\n",
       "      <td>0.053448</td>\n",
       "      <td>0.050979</td>\n",
       "    </tr>\n",
       "  </tbody>\n",
       "</table>\n",
       "</div>"
      ],
      "text/plain": [
       "   Sequential  LGBMClassifier  XGBClassifier  MLPClassifier  \\\n",
       "0    0.335032        0.361801       0.348334       0.342524   \n",
       "1    0.542141        0.665235       0.657173       0.561377   \n",
       "2    0.048808        0.054240       0.052380       0.075336   \n",
       "3    0.165080        0.222551       0.212316       0.162091   \n",
       "4    0.046927        0.045581       0.049623       0.060695   \n",
       "\n",
       "   LogisticRegression     Gmean  \n",
       "0            0.310631  0.339233  \n",
       "1            0.545661  0.591819  \n",
       "2            0.052062  0.055860  \n",
       "3            0.176611  0.186113  \n",
       "4            0.053448  0.050979  "
      ]
     },
     "execution_count": 12,
     "metadata": {},
     "output_type": "execute_result"
    }
   ],
   "source": [
    "preds_train_df.head()"
   ]
  },
  {
   "cell_type": "code",
   "execution_count": 13,
   "metadata": {
    "collapsed": false,
    "deletable": true,
    "editable": true
   },
   "outputs": [],
   "source": [
    "topfeat = [\n",
    "    'nDaysPlayd*maxLvl',\n",
    "    'nDaysPlayd*avgNTurns',\n",
    "    'nAttemptedLevels_/_totalNAttempts',\n",
    "    'nDaysPlayd*nAttempts',\n",
    "    'diff_NofDaysPlayed_BoostersFraction',\n",
    "    'totNumAttempts_/_nBoostersUsed',\n",
    "    'maxLvl_/_BoostersUsed',\n",
    "    'nAttempts*maxLvl',\n",
    "    'avgNTurns_/_NDaysActuallyPlayed',\n",
    "    'BoostersUsed*totScore'\n",
    "]"
   ]
  },
  {
   "cell_type": "code",
   "execution_count": 14,
   "metadata": {
    "collapsed": false,
    "deletable": true,
    "editable": true
   },
   "outputs": [],
   "source": [
    "sndLvlLgbParam ={\n",
    "    'bagging_fraction': 0.75,\n",
    "    'bagging_freq': 1,\n",
    "    'boosting': 'gbdt',\n",
    "    'feature_fraction': 0.5,\n",
    "    'lambda_l2': 0.9,\n",
    "    'learning_rate': 0.164,\n",
    "    'max_bin': 255,\n",
    "    'max_depth': 3,\n",
    "    'metric': ('binary_logloss',),\n",
    "    'num_iterations': 27,\n",
    "    'num_leaves': 255,\n",
    "    'num_threads': 4,\n",
    "    'objective': 'binary',\n",
    "    'verbose': 0\n",
    "}"
   ]
  },
  {
   "cell_type": "code",
   "execution_count": 15,
   "metadata": {
    "collapsed": true,
    "deletable": true,
    "editable": true
   },
   "outputs": [],
   "source": [
    "sndLvlXgbParam =  {\n",
    "    'colsample_bylevel': 0.65,\n",
    "    'colsample_bytree': 0.55,\n",
    "    'gamma': 8.35,\n",
    "    'learning_rate': 0.008,\n",
    "    'max_delta_step': 5.15,\n",
    "    'max_depth': 3,\n",
    "    'min_child_weight': 6.0,\n",
    "    'n_estimators': 1088,\n",
    "    'nthread': 8,\n",
    "    'objective': 'binary:logistic',\n",
    "    'reg_lambda': 0.5,\n",
    "    'silent': 1,\n",
    "    'subsample': 0.5\n",
    "}"
   ]
  },
  {
   "cell_type": "code",
   "execution_count": 16,
   "metadata": {
    "collapsed": true,
    "deletable": true,
    "editable": true
   },
   "outputs": [],
   "source": [
    "fst_lvl_xtrain = pd.concat([preds_train_df, dfx_train[topfeat]], axis=1).values"
   ]
  },
  {
   "cell_type": "code",
   "execution_count": 17,
   "metadata": {
    "collapsed": false,
    "deletable": true,
    "editable": true,
    "scrolled": true
   },
   "outputs": [
    {
     "name": "stdout",
     "output_type": "stream",
     "text": [
      "0.375885031686\n",
      "0.37323123042\n",
      "0.385030960823\n",
      "0.382938726113\n",
      "0.379013455994\n",
      "0.379219881007 0.00435031549845\n"
     ]
    }
   ],
   "source": [
    "## CV for 2nd lvl model\n",
    "kf = StratifiedKFold(n_splits=5, random_state=228, shuffle=True)\n",
    "scores = []\n",
    "for train_index, test_index in kf.split(fst_lvl_xtrain, ytrain):\n",
    "    X_train, X_test = fst_lvl_xtrain[train_index], fst_lvl_xtrain[test_index]\n",
    "    y_train, y_test = ytrain[train_index], ytrain[test_index]\n",
    "    lgb_matrix = lgb.Dataset(X_train, y_train)\n",
    "    clf = lgb.train(sndLvlLgbParam, lgb_matrix, num_boost_round=sndLvlLgbParam['num_iterations'])\n",
    "    scores.append(log_loss(y_test, clf.predict(X_test)))\n",
    "#     clf = xgb.XGBClassifier(**sndLvlXgbParam)\n",
    "#     clf.fit(X_train, y_train)\n",
    "#     scores.append(log_loss(y_test, clf.predict_proba(X_test)[:,1]))\n",
    "    print(scores[-1])\n",
    "print(np.mean(scores), np.std(scores))"
   ]
  },
  {
   "cell_type": "code",
   "execution_count": 18,
   "metadata": {
    "collapsed": true,
    "deletable": true,
    "editable": true
   },
   "outputs": [],
   "source": [
    "lgbTrainData = lgb.Dataset(fst_lvl_xtrain, ytrain)"
   ]
  },
  {
   "cell_type": "code",
   "execution_count": 19,
   "metadata": {
    "collapsed": true,
    "deletable": true,
    "editable": true
   },
   "outputs": [],
   "source": [
    "xgbTrainData = xgb.DMatrix(fst_lvl_xtrain, ytrain)"
   ]
  },
  {
   "cell_type": "code",
   "execution_count": 20,
   "metadata": {
    "collapsed": false,
    "deletable": true,
    "editable": true,
    "scrolled": true
   },
   "outputs": [],
   "source": [
    "%%time\n",
    "sklearn_mlp = MLPClassifier(**sklearn_mlp_param)\n",
    "logreg = LogisticRegression(**logreg_param)\n",
    "lgb_clf = lgb.LGBMClassifier(**lgb_param)\n",
    "xgb_clf = xgb.XGBClassifier(**xgb_param)\n",
    "\n",
    "clfs = [getKerasMLP(), lgb_clf, xgb_clf, sklearn_mlp, logreg]\n",
    "preds_test = np.zeros((len(xtest), len(clfs)), dtype=np.float64)\n",
    "for clf_i, clf in enumerate(clfs):\n",
    "    if clf.__class__.__name__ != 'Sequential':\n",
    "        clf.fit(xtrain, ytrain)\n",
    "        prediction = clf.predict_proba(xtest)\n",
    "    else:\n",
    "        clf.fit(xtrain, ytrain, nb_epoch=16, batch_size=512, verbose=0)\n",
    "        prediction = clf.predict_proba(xtest, verbose=0)\n",
    "    if (prediction.shape[1] > 1):\n",
    "        prediction = prediction[:,1]\n",
    "    preds_test[:,clf_i] = prediction.ravel()\n",
    "\n",
    "preds_test_df = pd.DataFrame(preds_test, columns=[clf.__class__.__name__ for clf in clfs], index=None)\n",
    "preds_test_df['Gmean'] = gmean(preds_test, axis=1)\n",
    "fst_lvl_xtest = pd.concat([preds_test_df, dfx_test[topfeat]], axis=1).values"
   ]
  },
  {
   "cell_type": "code",
   "execution_count": 21,
   "metadata": {
    "collapsed": true,
    "deletable": true,
    "editable": true
   },
   "outputs": [],
   "source": [
    "xgbTestData = xgb.DMatrix(fst_lvl_xtest)"
   ]
  },
  {
   "cell_type": "code",
   "execution_count": null,
   "metadata": {
    "collapsed": false,
    "deletable": true,
    "editable": true
   },
   "outputs": [
    {
     "name": "stderr",
     "output_type": "stream",
     "text": [
      "  3%|▎         | 16/500 [01:15<38:12,  4.74s/it]"
     ]
    }
   ],
   "source": [
    "predictions = []\n",
    "for i in tqdm(range(500)):\n",
    "    seed=i+1\n",
    "    np.random.seed(seed)\n",
    "    random.seed(seed)\n",
    "\n",
    "    xgbTmpParam = sndLvlXgbParam.copy()\n",
    "    xgbTmpParam['seed'] = seed\n",
    "    xgbTmpParam['n_estimators'] += random.randint(-5,10)\n",
    "    \n",
    "    lgbTmpParam = sndLvlLgbParam.copy()\n",
    "    lgbTmpParam['seed'] = seed\n",
    "    lgbTmpParam['num_iterations'] += random.randint(-5,10)\n",
    "    \n",
    "    sndLvlXgb = xgb.train(sndLvlXgbParam, xgbTrainData,\n",
    "                          num_boost_round=sndLvlXgbParam['n_estimators'])\n",
    "    sndLvlLgb = lgb.train(sndLvlLgbParam, lgbTrainData,\n",
    "                          num_boost_round=sndLvlLgbParam['num_iterations']+random.randint(-5,10))\n",
    "    \n",
    "    predictions.append(sndLvlXgb.predict(xgbTestData))\n",
    "    predictions.append(sndLvlLgb.predict(fst_lvl_xtest))"
   ]
  },
  {
   "cell_type": "code",
   "execution_count": null,
   "metadata": {
    "collapsed": false,
    "deletable": true,
    "editable": true
   },
   "outputs": [],
   "source": [
    "pd.DataFrame(gmean(predictions)).to_csv('ans.csv', header=False, index=False)"
   ]
  }
 ],
 "metadata": {
  "kernelspec": {
   "display_name": "Python3 (mlenv)",
   "language": "python",
   "name": "mlenv"
  },
  "language_info": {
   "codemirror_mode": {
    "name": "ipython",
    "version": 3
   },
   "file_extension": ".py",
   "mimetype": "text/x-python",
   "name": "python",
   "nbconvert_exporter": "python",
   "pygments_lexer": "ipython3",
   "version": "3.6.0"
  }
 },
 "nbformat": 4,
 "nbformat_minor": 2
}
